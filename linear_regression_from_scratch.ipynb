{
 "cells": [
  {
   "cell_type": "markdown",
   "metadata": {},
   "source": [
    "At school teachers tend to say that linear fit (regression) is a process of drawing a line through data in a scatter plot. Yes, linear regression is simple as that but we can have multiple dimensions so instead\n",
    "\n",
    "[1] $$y = ax + b$$ \n",
    "\n",
    "we can have something like this \n",
    "\n",
    "[2] $$y = a_{1}x_{1} + a_{2}x_{2} + ... + a_{n}x_{n} + b$$ \n",
    "\n",
    "if you look at any book about statistics probably you will see something like this:\n",
    "\n",
    "$$ y_{1} = \\beta_{0} + \\beta_{1}x_{1}^{1} + \\beta_{2}x_{2}^{1} + ... + \\beta_{n}x_{n}^{1} + \\epsilon_{1} $$\n",
    "$$ y_{2} = \\beta_{0} + \\beta_{1}x_{1}^{2} + \\beta_{2}x_{2}^{2} + ... + \\beta_{n}x_{n}^{2} + \\epsilon_{2} $$\n",
    "...\n",
    "$$ y_{m} = \\beta_{0} + \\beta_{1}x_{1}^{m} + \\beta_{2}x_{2}^{m} + ... + \\beta_{n}x_{n}^{m} + \\epsilon_{m} $$\n",
    "\n",
    "where n == number of features (number of dimensions) and m == number of our examples (data size)\n",
    "\n",
    "\n",
    "so how can we fit (find parameters of) this equation to our data? \n",
    "\n",
    "Let's first write linear regression in the vectorized form (let's forget about $\\epsilon$ at this moment becouse why not):\n",
    "\n",
    "\n",
    "$\n",
    "y = X\\theta =\n",
    "\\left[\n",
    "  \\begin{array}{ccccc}\n",
    "   1  & x_{1}^{1}  & x_{2}^{1} & ... & x_{n}^{1}  \\\\\n",
    "   1  & x_{1}^{2}  & x_{2}^{2} & ... & x_{n}^{2}  \\\\\n",
    "   ...  &  ... & ...  & ...  & ... \\\\\n",
    "   1  & x_{1}^{m}  & x_{2}^{m} & ... & x_{n}^{m}  \\\\\n",
    "  \\end{array}\n",
    "\\right]\n",
    "\\begin{bmatrix}\n",
    "           \\beta_{0} \\\\\n",
    "           \\beta_{1} \\\\\n",
    "           ... \\\\\n",
    "           \\beta_{n}\n",
    "         \\end{bmatrix}\n",
    "$\n",
    "\n",
    "X is (m x n+1) where m is the number of samples and n number of featues, and $\\theta$ is (n+1 x 1)\n",
    "\n",
    "\n",
    "\n",
    "\n"
   ]
  },
  {
   "cell_type": "code",
   "execution_count": 1,
   "metadata": {},
   "outputs": [],
   "source": [
    "from copy import deepcopy\n",
    "from random import randint\n",
    "import numpy as np"
   ]
  },
  {
   "cell_type": "code",
   "execution_count": 2,
   "metadata": {},
   "outputs": [],
   "source": [
    "def linear_function(x , beta):\n",
    "    return np.dot(x , beta) # you can also use X.dot(beta) as there are two implementations in numpy"
   ]
  },
  {
   "cell_type": "markdown",
   "metadata": {},
   "source": [
    "now we need cost function and gradient descent or stochastic gradient descent \n",
    "\n",
    "or normal equation to find the parameters of linear regression"
   ]
  },
  {
   "cell_type": "code",
   "execution_count": 3,
   "metadata": {},
   "outputs": [],
   "source": [
    "def cost_function(x, y, beta):\n",
    "    try:\n",
    "        m = len(y)\n",
    "    except:\n",
    "        m = 1\n",
    "    J = np.sum ( (linear_function(x , beta) - y) ** 2)/(2 * m)\n",
    "    return J"
   ]
  },
  {
   "cell_type": "markdown",
   "metadata": {},
   "source": [
    "and now it's time for the gradient descent:"
   ]
  },
  {
   "cell_type": "code",
   "execution_count": 4,
   "metadata": {},
   "outputs": [],
   "source": [
    "def gradient_descent(x, y, beta, alpha, iterations):\n",
    "    m = len(y)\n",
    "    cost_history = np.zeros(iterations)\n",
    "    for iteration in range(iterations):\n",
    "        loss = linear_function(x , beta) - y\n",
    "        gradient = np.dot(x.T, loss) / m\n",
    "        beta = beta - alpha * gradient\n",
    "        cost = cost_function(x, y, beta)\n",
    "        cost_history[iteration] = cost    \n",
    "    return beta, cost_history"
   ]
  },
  {
   "cell_type": "markdown",
   "metadata": {},
   "source": [
    "we can also write SGD. We just need to shuffle the samples after each epoch and we should update weights after \n",
    "each sample:"
   ]
  },
  {
   "cell_type": "markdown",
   "metadata": {},
   "source": [
    "let's use random.permutation for shuffling "
   ]
  },
  {
   "cell_type": "code",
   "execution_count": 5,
   "metadata": {},
   "outputs": [],
   "source": [
    "def shuffle(x,y):\n",
    "    randp = randint(0, len(y)-1)\n",
    "    return x[randp], y[randp]"
   ]
  },
  {
   "cell_type": "code",
   "execution_count": 6,
   "metadata": {},
   "outputs": [],
   "source": [
    "def sgd(x, y, beta, alpha, iterations):\n",
    "    m = len(y)\n",
    "    cost_history_sgd = np.zeros(iterations)\n",
    "    for iteration in range(iterations):\n",
    "        onex, oney = shuffle(x, y)\n",
    "        loss = linear_function(onex , beta) - oney\n",
    "        gradient = np.dot(onex.T, loss) / m\n",
    "        beta = beta - alpha * gradient\n",
    "        cost = cost_function(onex, oney, beta)\n",
    "        cost_history_sgd[iteration] = cost    \n",
    "    return beta, cost_history_sgd"
   ]
  },
  {
   "cell_type": "markdown",
   "metadata": {},
   "source": [
    "and we can also write normal equation to find the parameters of linear regression"
   ]
  },
  {
   "cell_type": "code",
   "execution_count": 7,
   "metadata": {},
   "outputs": [],
   "source": [
    "def normal_equaton(x,y):\n",
    "    beta = np.linalg.inv(x.T.dot(x)).dot(x.T).dot(y)\n",
    "    return beta"
   ]
  },
  {
   "cell_type": "markdown",
   "metadata": {},
   "source": [
    "so it's time to generate some examples and check if this implementation works"
   ]
  },
  {
   "cell_type": "markdown",
   "metadata": {},
   "source": [
    "let's start with something simple and move on to more dimensions "
   ]
  },
  {
   "cell_type": "markdown",
   "metadata": {},
   "source": [
    "I feel lazy today so I'll use sklearn"
   ]
  },
  {
   "cell_type": "code",
   "execution_count": 8,
   "metadata": {},
   "outputs": [
    {
     "data": {
      "image/png": "[encoded data removed]",
      "text/plain": [
       "<Figure size 432x288 with 1 Axes>"
      ]
     },
     "metadata": {},
     "output_type": "display_data"
    }
   ],
   "source": [
    "from sklearn.datasets import make_regression\n",
    "from matplotlib import pyplot\n",
    "# generate regression dataset\n",
    "\n",
    "m = 500 # number of examples\n",
    "n = 1   # number of features (bias not counted)\n",
    "\n",
    "x, y = make_regression(n_samples=m, n_features=n, noise=0.1)\n",
    "\n",
    "\n",
    "# copy generated features and labels\n",
    "x1, y1 = deepcopy(x), deepcopy(y)  # use deepcopy or x[:] , y[:]\n",
    "x2, y2 = deepcopy(x), deepcopy(y)  # use deepcopy or x[:] , y[:]\n",
    "x3, y3 = deepcopy(x), deepcopy(y)  # use deepcopy or x[:] , y[:]\n",
    "\n",
    "#\n",
    "min_x = min(x)\n",
    "max_x = max(x)\n",
    "\n",
    "min_y = min(y)\n",
    "max_y = max(y)\n",
    "\n",
    "\n",
    "# plot regression dataset\n",
    "%matplotlib inline\n",
    "pyplot.scatter(x,y)\n",
    "pyplot.show()"
   ]
  },
  {
   "cell_type": "code",
   "execution_count": 9,
   "metadata": {},
   "outputs": [],
   "source": [
    "x1 = np.insert(x1, 0, 1, axis=1)\n",
    "x2 = np.insert(x2, 0, 1, axis=1)\n",
    "x3 = np.insert(x3, 0, 1, axis=1)"
   ]
  },
  {
   "cell_type": "markdown",
   "metadata": {},
   "source": [
    "weights (beta) initialization"
   ]
  },
  {
   "cell_type": "code",
   "execution_count": 10,
   "metadata": {},
   "outputs": [],
   "source": [
    "beta = np.ones(n+1)"
   ]
  },
  {
   "cell_type": "markdown",
   "metadata": {},
   "source": [
    "gradient descent parameters:"
   ]
  },
  {
   "cell_type": "code",
   "execution_count": 11,
   "metadata": {},
   "outputs": [],
   "source": [
    "alpha = 0.001"
   ]
  },
  {
   "cell_type": "code",
   "execution_count": 12,
   "metadata": {},
   "outputs": [],
   "source": [
    "iterations = 10000"
   ]
  },
  {
   "cell_type": "code",
   "execution_count": 13,
   "metadata": {},
   "outputs": [],
   "source": [
    "beta_gd, cost_history = gradient_descent(x1, y1, beta, alpha, iterations)"
   ]
  },
  {
   "cell_type": "code",
   "execution_count": 14,
   "metadata": {},
   "outputs": [
    {
     "name": "stdout",
     "output_type": "stream",
     "text": [
      "[2.35739844e-03 5.97319923e+01]\n"
     ]
    }
   ],
   "source": [
    "print(beta_gd)"
   ]
  },
  {
   "cell_type": "code",
   "execution_count": 15,
   "metadata": {},
   "outputs": [
    {
     "name": "stdout",
     "output_type": "stream",
     "text": [
      "[1.73433853e+03 1.73084483e+03 1.72735818e+03 ... 5.30204396e-03\n",
      " 5.30203722e-03 5.30203050e-03]\n"
     ]
    }
   ],
   "source": [
    "print(cost_history)"
   ]
  },
  {
   "cell_type": "code",
   "execution_count": 16,
   "metadata": {},
   "outputs": [],
   "source": [
    "beta2 = np.ones(n+1)\n",
    "iterations2 = 5000000"
   ]
  },
  {
   "cell_type": "code",
   "execution_count": 17,
   "metadata": {},
   "outputs": [],
   "source": [
    "beta_sgd, cost_history_sgd = sgd(x2, y2, beta2, alpha, iterations2)"
   ]
  },
  {
   "cell_type": "code",
   "execution_count": 18,
   "metadata": {},
   "outputs": [
    {
     "name": "stdout",
     "output_type": "stream",
     "text": [
      "[2.46585230e-03 5.97317749e+01]\n"
     ]
    }
   ],
   "source": [
    "print(beta_sgd)"
   ]
  },
  {
   "cell_type": "code",
   "execution_count": 19,
   "metadata": {},
   "outputs": [
    {
     "name": "stdout",
     "output_type": "stream",
     "text": [
      "[7.04553908e+02 1.72273200e+02 6.15368937e+02 ... 1.10581500e-02\n",
      " 4.39952902e-04 1.10183445e-02]\n"
     ]
    }
   ],
   "source": [
    "print(cost_history_sgd)"
   ]
  },
  {
   "cell_type": "code",
   "execution_count": 20,
   "metadata": {},
   "outputs": [],
   "source": [
    "beta_normal = normal_equaton(x1,y1)"
   ]
  },
  {
   "cell_type": "code",
   "execution_count": 21,
   "metadata": {},
   "outputs": [
    {
     "name": "stdout",
     "output_type": "stream",
     "text": [
      "[1.73651851e-03 5.97345146e+01]\n"
     ]
    }
   ],
   "source": [
    "print(beta_normal)"
   ]
  },
  {
   "cell_type": "code",
   "execution_count": 23,
   "metadata": {},
   "outputs": [
    {
     "data": {
      "image/png": "[encoded data removed]",
      "text/plain": [
       "<Figure size 432x288 with 1 Axes>"
      ]
     },
     "metadata": {},
     "output_type": "display_data"
    }
   ],
   "source": [
    "X_plot = np.linspace(min_x, max_x, 100)\n",
    "\n",
    "pyplot.scatter(x,y)\n",
    "\n",
    "pyplot.plot(X_plot, X_plot*beta_normal[1] + beta_normal[0])\n",
    "\n",
    "pyplot.show()"
   ]
  },
  {
   "cell_type": "code",
   "execution_count": 24,
   "metadata": {},
   "outputs": [
    {
     "data": {
      "image/png": "[encoded data removed]",
      "text/plain": [
       "<Figure size 432x288 with 1 Axes>"
      ]
     },
     "metadata": {},
     "output_type": "display_data"
    }
   ],
   "source": [
    "pyplot.scatter(x,y)\n",
    "\n",
    "pyplot.plot(X_plot, X_plot*beta_sgd[1] + beta_sgd[0])\n",
    "\n",
    "pyplot.show()"
   ]
  },
  {
   "cell_type": "code",
   "execution_count": 25,
   "metadata": {},
   "outputs": [
    {
     "data": {
      "image/png": "[encoded data removed]",
      "text/plain": [
       "<Figure size 432x288 with 1 Axes>"
      ]
     },
     "metadata": {},
     "output_type": "display_data"
    }
   ],
   "source": [
    "pyplot.scatter(x,y)\n",
    "\n",
    "pyplot.plot(X_plot, X_plot*beta_gd[1] + beta_gd[0])\n",
    "\n",
    "pyplot.show()"
   ]
  },
  {
   "cell_type": "code",
   "execution_count": 26,
   "metadata": {},
   "outputs": [],
   "source": [
    "small_number_of_iterations = 10000\n",
    "beta_sgd, cost_history_sgd = sgd(x2, y2, beta2, alpha, small_number_of_iterations)"
   ]
  },
  {
   "cell_type": "code",
   "execution_count": 27,
   "metadata": {},
   "outputs": [
    {
     "data": {
      "image/png": "[encoded data removed]",
      "text/plain": [
       "<Figure size 432x288 with 1 Axes>"
      ]
     },
     "metadata": {},
     "output_type": "display_data"
    }
   ],
   "source": [
    "pyplot.scatter(x,y)\n",
    "\n",
    "pyplot.plot(X_plot, X_plot*beta_sgd[1] + beta_sgd[0])\n",
    "\n",
    "pyplot.show()"
   ]
  },
  {
   "cell_type": "code",
   "execution_count": 28,
   "metadata": {},
   "outputs": [],
   "source": [
    "medium_number_of_iterations = 100000\n",
    "beta_sgd, cost_history_sgd = sgd(x2, y2, beta2, alpha, medium_number_of_iterations)"
   ]
  },
  {
   "cell_type": "code",
   "execution_count": 29,
   "metadata": {},
   "outputs": [
    {
     "data": {
      "image/png": "[encoded data removed]",
      "text/plain": [
       "<Figure size 432x288 with 1 Axes>"
      ]
     },
     "metadata": {},
     "output_type": "display_data"
    }
   ],
   "source": [
    "pyplot.scatter(x,y)\n",
    "\n",
    "pyplot.plot(X_plot, X_plot*beta_sgd[1] + beta_sgd[0])\n",
    "\n",
    "pyplot.show()"
   ]
  },
  {
   "cell_type": "code",
   "execution_count": 30,
   "metadata": {},
   "outputs": [],
   "source": [
    "larger_number_of_iterations = 1000000\n",
    "beta_sgd, cost_history_sgd = sgd(x2, y2, beta2, alpha, larger_number_of_iterations)"
   ]
  },
  {
   "cell_type": "code",
   "execution_count": 31,
   "metadata": {},
   "outputs": [
    {
     "data": {
      "image/png": "[encoded data removed]",
      "text/plain": [
       "<Figure size 432x288 with 1 Axes>"
      ]
     },
     "metadata": {},
     "output_type": "display_data"
    }
   ],
   "source": [
    "pyplot.scatter(x,y)\n",
    "\n",
    "pyplot.plot(X_plot, X_plot*beta_sgd[1] + beta_sgd[0])\n",
    "\n",
    "pyplot.show()"
   ]
  },
  {
   "cell_type": "markdown",
   "metadata": {},
   "source": [
    "cool!"
   ]
  }
 ],
 "metadata": {
  "kernelspec": {
   "display_name": "Python [conda env:Python3]",
   "language": "python",
   "name": "conda-env-Python3-py"
  },
  "language_info": {
   "codemirror_mode": {
    "name": "ipython",
    "version": 3
   },
   "file_extension": ".py",
   "mimetype": "text/x-python",
   "name": "python",
   "nbconvert_exporter": "python",
   "pygments_lexer": "ipython3",
   "version": "3.5.5"
  }
 },
 "nbformat": 4,
 "nbformat_minor": 2
}
