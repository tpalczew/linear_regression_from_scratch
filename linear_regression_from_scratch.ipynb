{
 "cells": [
  {
   "cell_type": "markdown",
   "metadata": {},
   "source": [
    "At school teachers tend to say that linear fit (regression) is a process of drawing a line through data in a scatter plot. Yes, linear regression is simple as that but we can have multiple dimensions so instead\n",
    "\n",
    "[1] $$y = ax + b$$ \n",
    "\n",
    "we can have something like this \n",
    "\n",
    "[2] $$y = a_{1}x_{1} + a_{2}x_{2} + ... + a_{n}x_{n} + b$$ \n",
    "\n",
    "if you look at any book about statistics probably you will see something like this:\n",
    "\n",
    "$$ y_{1} = \\beta_{0} + \\beta_{1}x_{1}^{1} + \\beta_{2}x_{2}^{1} + ... + \\beta_{n}x_{n}^{1} + \\epsilon_{1} $$\n",
    "$$ y_{2} = \\beta_{0} + \\beta_{1}x_{1}^{2} + \\beta_{2}x_{2}^{2} + ... + \\beta_{n}x_{n}^{2} + \\epsilon_{2} $$\n",
    "...\n",
    "$$ y_{m} = \\beta_{0} + \\beta_{1}x_{1}^{m} + \\beta_{2}x_{2}^{m} + ... + \\beta_{n}x_{n}^{m} + \\epsilon_{m} $$\n",
    "\n",
    "where n == number of features (number of dimensions) and m == number of our examples (data size)\n",
    "\n",
    "\n",
    "so how can we fit (find parameters of) this equation to our data? \n",
    "\n",
    "Let's first write linear regression in the vectorized form (let's forget about $\\epsilon$ at this moment becouse why not):\n",
    "\n",
    "\n",
    "$\n",
    "y = X\\theta =\n",
    "\\left[\n",
    "  \\begin{array}{ccccc}\n",
    "   1  & x_{1}^{1}  & x_{2}^{1} & ... & x_{n}^{1}  \\\\\n",
    "   1  & x_{1}^{2}  & x_{2}^{2} & ... & x_{n}^{2}  \\\\\n",
    "   ...  &  ... & ...  & ...  & ... \\\\\n",
    "   1  & x_{1}^{m}  & x_{2}^{m} & ... & x_{n}^{m}  \\\\\n",
    "  \\end{array}\n",
    "\\right]\n",
    "\\begin{bmatrix}\n",
    "           \\beta_{0} \\\\\n",
    "           \\beta_{1} \\\\\n",
    "           ... \\\\\n",
    "           \\beta_{n}\n",
    "         \\end{bmatrix}\n",
    "$\n",
    "\n",
    "X is (m x n+1) where m is the number of samples and n number of featues, and $\\theta$ is (n+1 x 1)\n",
    "\n",
    "\n",
    "\n",
    "\n"
   ]
  },
  {
   "cell_type": "code",
   "execution_count": 1,
   "metadata": {},
   "outputs": [],
   "source": [
    "from copy import deepcopy\n",
    "from random import randint\n",
    "import numpy as np\n",
    "from sklearn.datasets import make_regression\n",
    "from matplotlib import pyplot"
   ]
  },
  {
   "cell_type": "code",
   "execution_count": 2,
   "metadata": {},
   "outputs": [],
   "source": [
    "def linear_function(x , beta):\n",
    "    return np.dot(x , beta) # you can also use X.dot(beta) as there are two implementations in numpy"
   ]
  },
  {
   "cell_type": "markdown",
   "metadata": {},
   "source": [
    "now we need cost function and gradient descent or stochastic gradient descent \n",
    "\n",
    "or normal equation to find the parameters of linear regression"
   ]
  },
  {
   "cell_type": "code",
   "execution_count": 3,
   "metadata": {},
   "outputs": [],
   "source": [
    "def cost_function(x, y, beta):\n",
    "    try:\n",
    "        m = len(y)\n",
    "    except:\n",
    "        m = 1\n",
    "    J = np.sum ( (linear_function(x , beta) - y) ** 2)/(2 * m)\n",
    "    return J"
   ]
  },
  {
   "cell_type": "markdown",
   "metadata": {},
   "source": [
    "and now it's time for the gradient descent:"
   ]
  },
  {
   "cell_type": "code",
   "execution_count": 4,
   "metadata": {},
   "outputs": [],
   "source": [
    "def gradient_descent(x, y, beta, alpha, iterations):\n",
    "    m = len(y)\n",
    "    cost_history = np.zeros(iterations)\n",
    "    for iteration in range(iterations):\n",
    "        loss = linear_function(x , beta) - y\n",
    "        gradient = np.dot(x.T, loss) / m\n",
    "        beta = beta - alpha * gradient\n",
    "        cost = cost_function(x, y, beta)\n",
    "        cost_history[iteration] = cost    \n",
    "    return beta, cost_history"
   ]
  },
  {
   "cell_type": "markdown",
   "metadata": {},
   "source": [
    "we can also write SGD. We just need to shuffle the samples after each epoch and we should update weights after \n",
    "each sample:"
   ]
  },
  {
   "cell_type": "markdown",
   "metadata": {},
   "source": [
    "let's use random.permutation for shuffling "
   ]
  },
  {
   "cell_type": "code",
   "execution_count": 5,
   "metadata": {},
   "outputs": [],
   "source": [
    "def shuffle(x,y):\n",
    "    randp = randint(0, len(y)-1)\n",
    "    return x[randp], y[randp]"
   ]
  },
  {
   "cell_type": "code",
   "execution_count": 6,
   "metadata": {},
   "outputs": [],
   "source": [
    "def sgd(x, y, beta, alpha, iterations):\n",
    "    m = len(y)\n",
    "    cost_history_sgd = np.zeros(iterations)\n",
    "    for iteration in range(iterations):\n",
    "        onex, oney = shuffle(x, y)\n",
    "        loss = linear_function(onex , beta) - oney\n",
    "        gradient = np.dot(onex.T, loss) / m\n",
    "        beta = beta - alpha * gradient\n",
    "        cost = cost_function(onex, oney, beta)\n",
    "        cost_history_sgd[iteration] = cost    \n",
    "    return beta, cost_history_sgd"
   ]
  },
  {
   "cell_type": "markdown",
   "metadata": {},
   "source": [
    "and we can also write normal equation to find the parameters of linear regression"
   ]
  },
  {
   "cell_type": "code",
   "execution_count": 7,
   "metadata": {},
   "outputs": [],
   "source": [
    "def normal_equaton(x,y):\n",
    "    beta = np.linalg.inv(x.T.dot(x)).dot(x.T).dot(y)\n",
    "    return beta"
   ]
  },
  {
   "cell_type": "markdown",
   "metadata": {},
   "source": [
    "so it's time to generate some examples and check if this implementation works"
   ]
  },
  {
   "cell_type": "markdown",
   "metadata": {},
   "source": [
    "let's start with something simple and move on to more dimensions "
   ]
  },
  {
   "cell_type": "markdown",
   "metadata": {},
   "source": [
    "I feel lazy today so I'll use sklearn"
   ]
  },
  {
   "cell_type": "code",
   "execution_count": 8,
   "metadata": {},
   "outputs": [
    {
     "data": {
      "image/png": "[encoded data removed]",
      "text/plain": [
       "<matplotlib.figure.Figure at 0x1a170b3c50>"
      ]
     },
     "metadata": {
      "needs_background": "light"
     },
     "output_type": "display_data"
    }
   ],
   "source": [
    "from sklearn.datasets import make_regression\n",
    "from matplotlib import pyplot\n",
    "# generate regression dataset\n",
    "\n",
    "m = 500 # number of examples\n",
    "n = 1   # number of features (bias not counted)\n",
    "\n",
    "x, y = make_regression(n_samples=m, n_features=n, noise=0.1)\n",
    "\n",
    "\n",
    "# copy generated features and labels\n",
    "x1, y1 = deepcopy(x), deepcopy(y)  # use deepcopy or x[:] , y[:]\n",
    "x2, y2 = deepcopy(x), deepcopy(y)  # use deepcopy or x[:] , y[:]\n",
    "x3, y3 = deepcopy(x), deepcopy(y)  # use deepcopy or x[:] , y[:]\n",
    "\n",
    "#\n",
    "min_x = min(x)\n",
    "max_x = max(x)\n",
    "\n",
    "min_y = min(y)\n",
    "max_y = max(y)\n",
    "\n",
    "\n",
    "# plot regression dataset\n",
    "%matplotlib inline\n",
    "pyplot.scatter(x,y)\n",
    "pyplot.show()"
   ]
  },
  {
   "cell_type": "code",
   "execution_count": 9,
   "metadata": {},
   "outputs": [],
   "source": [
    "x1 = np.insert(x1, 0, 1, axis=1)\n",
    "x2 = np.insert(x2, 0, 1, axis=1)\n",
    "x3 = np.insert(x3, 0, 1, axis=1)"
   ]
  },
  {
   "cell_type": "markdown",
   "metadata": {},
   "source": [
    "weights (beta) initialization"
   ]
  },
  {
   "cell_type": "code",
   "execution_count": 10,
   "metadata": {},
   "outputs": [],
   "source": [
    "beta = np.ones(n+1)"
   ]
  },
  {
   "cell_type": "markdown",
   "metadata": {},
   "source": [
    "gradient descent parameters:"
   ]
  },
  {
   "cell_type": "code",
   "execution_count": 11,
   "metadata": {},
   "outputs": [],
   "source": [
    "alpha = 0.001"
   ]
  },
  {
   "cell_type": "code",
   "execution_count": 12,
   "metadata": {},
   "outputs": [],
   "source": [
    "iterations = 10000"
   ]
  },
  {
   "cell_type": "code",
   "execution_count": 13,
   "metadata": {},
   "outputs": [],
   "source": [
    "beta_gd, cost_history = gradient_descent(x1, y1, beta, alpha, iterations)"
   ]
  },
  {
   "cell_type": "code",
   "execution_count": 14,
   "metadata": {},
   "outputs": [
    {
     "name": "stdout",
     "output_type": "stream",
     "text": [
      "[-7.68711154e-04  2.94371857e+01]\n"
     ]
    }
   ],
   "source": [
    "print(beta_gd)"
   ]
  },
  {
   "cell_type": "code",
   "execution_count": 15,
   "metadata": {},
   "outputs": [
    {
     "name": "stdout",
     "output_type": "stream",
     "text": [
      "[4.03832408e+02 4.03022834e+02 4.02214888e+02 ... 4.96140015e-03\n",
      " 4.96139747e-03 4.96139480e-03]\n"
     ]
    }
   ],
   "source": [
    "print(cost_history)"
   ]
  },
  {
   "cell_type": "code",
   "execution_count": 16,
   "metadata": {},
   "outputs": [],
   "source": [
    "beta2 = np.ones(n+1)\n",
    "iterations2 = 5000000"
   ]
  },
  {
   "cell_type": "code",
   "execution_count": 17,
   "metadata": {},
   "outputs": [],
   "source": [
    "beta_sgd, cost_history_sgd = sgd(x2, y2, beta2, alpha, iterations2)"
   ]
  },
  {
   "cell_type": "code",
   "execution_count": 18,
   "metadata": {},
   "outputs": [
    {
     "name": "stdout",
     "output_type": "stream",
     "text": [
      "[-8.19189955e-04  2.94369711e+01]\n"
     ]
    }
   ],
   "source": [
    "print(beta_sgd)"
   ]
  },
  {
   "cell_type": "code",
   "execution_count": 19,
   "metadata": {},
   "outputs": [
    {
     "name": "stdout",
     "output_type": "stream",
     "text": [
      "[5.11210794e+02 4.95448596e+01 5.50884730e+02 ... 9.60123182e-04\n",
      " 3.05949774e-03 3.46345951e-05]\n"
     ]
    }
   ],
   "source": [
    "print(cost_history_sgd)"
   ]
  },
  {
   "cell_type": "code",
   "execution_count": 20,
   "metadata": {},
   "outputs": [],
   "source": [
    "beta_normal = normal_equaton(x1,y1)"
   ]
  },
  {
   "cell_type": "code",
   "execution_count": 21,
   "metadata": {},
   "outputs": [
    {
     "name": "stdout",
     "output_type": "stream",
     "text": [
      "[-1.61214547e-03  2.94386789e+01]\n"
     ]
    }
   ],
   "source": [
    "print(beta_normal)"
   ]
  },
  {
   "cell_type": "code",
   "execution_count": 22,
   "metadata": {},
   "outputs": [
    {
     "data": {
      "image/png": "[encoded data removed]",
      "text/plain": [
       "<matplotlib.figure.Figure at 0x113260d30>"
      ]
     },
     "metadata": {
      "needs_background": "light"
     },
     "output_type": "display_data"
    }
   ],
   "source": [
    "X_plot = np.linspace(min_x, max_x, 100)\n",
    "\n",
    "pyplot.scatter(x,y)\n",
    "\n",
    "pyplot.plot(X_plot, X_plot*beta_normal[1] + beta_normal[0])\n",
    "\n",
    "pyplot.show()"
   ]
  },
  {
   "cell_type": "code",
   "execution_count": 23,
   "metadata": {},
   "outputs": [
    {
     "data": {
      "image/png": "[encoded data removed]",
      "text/plain": [
       "<matplotlib.figure.Figure at 0x1a1735d908>"
      ]
     },
     "metadata": {
      "needs_background": "light"
     },
     "output_type": "display_data"
    }
   ],
   "source": [
    "pyplot.scatter(x,y)\n",
    "\n",
    "pyplot.plot(X_plot, X_plot*beta_sgd[1] + beta_sgd[0])\n",
    "\n",
    "pyplot.show()"
   ]
  },
  {
   "cell_type": "code",
   "execution_count": 24,
   "metadata": {},
   "outputs": [
    {
     "data": {
      "image/png": "[encoded data removed]",
      "text/plain": [
       "<matplotlib.figure.Figure at 0x1a194c2f60>"
      ]
     },
     "metadata": {
      "needs_background": "light"
     },
     "output_type": "display_data"
    }
   ],
   "source": [
    "pyplot.scatter(x,y)\n",
    "\n",
    "pyplot.plot(X_plot, X_plot*beta_gd[1] + beta_gd[0])\n",
    "\n",
    "pyplot.show()"
   ]
  },
  {
   "cell_type": "code",
   "execution_count": 25,
   "metadata": {},
   "outputs": [],
   "source": [
    "small_number_of_iterations = 10000\n",
    "beta_sgd, cost_history_sgd = sgd(x2, y2, beta2, alpha, small_number_of_iterations)"
   ]
  },
  {
   "cell_type": "code",
   "execution_count": 26,
   "metadata": {},
   "outputs": [
    {
     "data": {
      "image/png": "[encoded data removed]",
      "text/plain": [
       "<matplotlib.figure.Figure at 0x1a195a3470>"
      ]
     },
     "metadata": {
      "needs_background": "light"
     },
     "output_type": "display_data"
    }
   ],
   "source": [
    "pyplot.scatter(x,y)\n",
    "\n",
    "pyplot.plot(X_plot, X_plot*beta_sgd[1] + beta_sgd[0])\n",
    "\n",
    "pyplot.show()"
   ]
  },
  {
   "cell_type": "code",
   "execution_count": 27,
   "metadata": {},
   "outputs": [],
   "source": [
    "medium_number_of_iterations = 100000\n",
    "beta_sgd, cost_history_sgd = sgd(x2, y2, beta2, alpha, medium_number_of_iterations)"
   ]
  },
  {
   "cell_type": "code",
   "execution_count": 28,
   "metadata": {},
   "outputs": [
    {
     "data": {
      "image/png": "[encoded data removed]",
      "text/plain": [
       "<matplotlib.figure.Figure at 0x1a1bcfcb00>"
      ]
     },
     "metadata": {
      "needs_background": "light"
     },
     "output_type": "display_data"
    }
   ],
   "source": [
    "pyplot.scatter(x,y)\n",
    "\n",
    "pyplot.plot(X_plot, X_plot*beta_sgd[1] + beta_sgd[0])\n",
    "\n",
    "pyplot.show()"
   ]
  },
  {
   "cell_type": "code",
   "execution_count": 29,
   "metadata": {},
   "outputs": [],
   "source": [
    "larger_number_of_iterations = 1000000\n",
    "beta_sgd, cost_history_sgd = sgd(x2, y2, beta2, alpha, larger_number_of_iterations)"
   ]
  },
  {
   "cell_type": "code",
   "execution_count": 30,
   "metadata": {},
   "outputs": [
    {
     "data": {
      "image/png": "[encoded data removed]",
      "text/plain": [
       "<matplotlib.figure.Figure at 0x1a17450ef0>"
      ]
     },
     "metadata": {
      "needs_background": "light"
     },
     "output_type": "display_data"
    }
   ],
   "source": [
    "pyplot.scatter(x,y)\n",
    "\n",
    "pyplot.plot(X_plot, X_plot*beta_sgd[1] + beta_sgd[0])\n",
    "\n",
    "pyplot.show()"
   ]
  },
  {
   "cell_type": "markdown",
   "metadata": {},
   "source": [
    "cool!"
   ]
  },
  {
   "cell_type": "markdown",
   "metadata": {},
   "source": [
    "# 5-features"
   ]
  },
  {
   "cell_type": "code",
   "execution_count": 31,
   "metadata": {},
   "outputs": [],
   "source": [
    "m = 500 # number of examples\n",
    "n = 5   # number of features (bias not counted)\n",
    "\n",
    "x, y = make_regression(n_samples=m, n_features=n, noise=0.1)\n",
    "\n",
    "\n",
    "# copy generated features and labels\n",
    "x1, y1 = deepcopy(x), deepcopy(y)  # use deepcopy or x[:] , y[:]\n",
    "x2, y2 = deepcopy(x), deepcopy(y)  # use deepcopy or x[:] , y[:]\n",
    "x3, y3 = deepcopy(x), deepcopy(y)  # use deepcopy or x[:] , y[:]\n",
    "\n",
    "# add bias \n",
    "\n",
    "x1 = np.insert(x1, 0, 1, axis=1)\n",
    "x2 = np.insert(x2, 0, 1, axis=1)\n",
    "x3 = np.insert(x3, 0, 1, axis=1)"
   ]
  },
  {
   "cell_type": "code",
   "execution_count": 32,
   "metadata": {},
   "outputs": [],
   "source": [
    "#\n",
    "beta = np.ones(n+1)\n",
    "alpha = 0.001\n",
    "iterations = 10000"
   ]
  },
  {
   "cell_type": "code",
   "execution_count": 33,
   "metadata": {},
   "outputs": [],
   "source": [
    "#\n",
    "beta_gd, cost_history = gradient_descent(x1, y1, beta, alpha, iterations)"
   ]
  },
  {
   "cell_type": "code",
   "execution_count": 34,
   "metadata": {},
   "outputs": [
    {
     "name": "stdout",
     "output_type": "stream",
     "text": [
      "[1.35765803e-02 3.06625656e+01 1.47942328e+01 5.73154589e+01\n",
      " 4.68137688e+01 3.54468421e+01]\n"
     ]
    }
   ],
   "source": [
    "print(beta_gd)"
   ]
  },
  {
   "cell_type": "code",
   "execution_count": 35,
   "metadata": {},
   "outputs": [],
   "source": [
    "#\n",
    "beta2 = np.ones(n+1)\n",
    "iterations2 = 5000000\n",
    "beta_sgd, cost_history_sgd = sgd(x2, y2, beta2, alpha, iterations2)"
   ]
  },
  {
   "cell_type": "code",
   "execution_count": 36,
   "metadata": {},
   "outputs": [
    {
     "name": "stdout",
     "output_type": "stream",
     "text": [
      "[1.35104199e-02 3.06625919e+01 1.47940881e+01 5.73153235e+01\n",
      " 4.68138631e+01 3.54468450e+01]\n"
     ]
    }
   ],
   "source": [
    "print(beta_sgd)"
   ]
  },
  {
   "cell_type": "code",
   "execution_count": 37,
   "metadata": {},
   "outputs": [],
   "source": [
    "#\n",
    "beta_normal = normal_equaton(x1,y1)"
   ]
  },
  {
   "cell_type": "code",
   "execution_count": 38,
   "metadata": {},
   "outputs": [
    {
     "name": "stdout",
     "output_type": "stream",
     "text": [
      "[1.14297356e-02 3.06690148e+01 1.47924623e+01 5.73232560e+01\n",
      " 4.68163552e+01 3.54460559e+01]\n"
     ]
    }
   ],
   "source": [
    "print(beta_normal)"
   ]
  },
  {
   "cell_type": "markdown",
   "metadata": {},
   "source": [
    "# Object oriented implemetation"
   ]
  },
  {
   "cell_type": "code",
   "execution_count": 39,
   "metadata": {},
   "outputs": [],
   "source": [
    "class tp_linear_reg():\n",
    "    def __init__(self, alpha = 0.001, iterations = 10000, model = 'gd'):\n",
    "        self.alpha = alpha\n",
    "        self.iterations = iterations\n",
    "        self.model = model\n",
    "        self.cost_history = np.zeros(self.iterations)\n",
    "        \n",
    "    def _linear_function(self, x, beta):\n",
    "        return np.dot(x , beta)\n",
    "    \n",
    "    def _cost_function(self, x, y, beta):\n",
    "        try:\n",
    "            m = len(y)\n",
    "        except:\n",
    "            m = 1\n",
    "        J = np.sum ( (self._linear_function(x , beta) - y) ** 2)/(2 * m)\n",
    "        return J\n",
    "    \n",
    "    def _shuffle(self, x, y):\n",
    "        randp = randint(0, len(y)-1)\n",
    "        return x[randp], y[randp]\n",
    "    \n",
    "    def fit(self, x, y):\n",
    "        m = len(y)\n",
    "        n = len(x[1])\n",
    "        self.beta = np.ones(n)\n",
    "        if self.model == 'gd':\n",
    "            print('GD')\n",
    "            for iteration in range(self.iterations):\n",
    "                loss = self._linear_function(x, self.beta)\n",
    "                loss = loss - y\n",
    "                gradient = np.dot(x.T, loss) / m\n",
    "                self.beta = self.beta - self.alpha * gradient\n",
    "                cost = self._cost_function(x, y, self.beta)\n",
    "                self.cost_history[iteration] = cost  \n",
    "            return self\n",
    "        if self.model == 'sgd':\n",
    "            print('SGD')\n",
    "            for iteration in range(self.iterations):\n",
    "                onex, oney = self._shuffle(x, y)\n",
    "                loss = self._linear_function(onex, self.beta) - oney\n",
    "                gradient = np.dot(onex.T, loss) / m\n",
    "                self.beta = self.beta - self.alpha * gradient\n",
    "                cost = self._cost_function(onex, oney, self.beta)\n",
    "                self.cost_history[iteration] = cost    \n",
    "            return self        \n",
    "        else:\n",
    "            print('Normal Equation')\n",
    "            self.beta = np.linalg.inv(x.T.dot(x)).dot(x.T).dot(y)\n",
    "            return self\n",
    "    \n",
    "    def predict(self, x):\n",
    "        return x.dot(self.beta)\n",
    "    \n",
    "    def score(self, x, y):\n",
    "        return 1 - sum((self.predict(x) - y)**2) / sum((y - np.mean(y))**2)\n",
    "        "
   ]
  },
  {
   "cell_type": "code",
   "execution_count": 40,
   "metadata": {},
   "outputs": [],
   "source": [
    "m = 500 # number of examples\n",
    "n = 5   # number of features (bias not counted)\n",
    "\n",
    "x, y = make_regression(n_samples=m, n_features=n, noise=0.1)\n",
    "\n",
    "\n",
    "# copy generated features and labels\n",
    "x1, y1 = deepcopy(x), deepcopy(y)  # use deepcopy or x[:] , y[:]\n",
    "x2, y2 = deepcopy(x), deepcopy(y)  # use deepcopy or x[:] , y[:]\n",
    "x3, y3 = deepcopy(x), deepcopy(y)  # use deepcopy or x[:] , y[:]\n",
    "\n",
    "# add bias \n",
    "\n",
    "x1 = np.insert(x1, 0, 1, axis=1)\n",
    "x2 = np.insert(x2, 0, 1, axis=1)\n",
    "x3 = np.insert(x3, 0, 1, axis=1)"
   ]
  },
  {
   "cell_type": "code",
   "execution_count": 41,
   "metadata": {},
   "outputs": [
    {
     "name": "stdout",
     "output_type": "stream",
     "text": [
      "GD\n"
     ]
    }
   ],
   "source": [
    "reg = tp_linear_reg().fit(x1,y1)"
   ]
  },
  {
   "cell_type": "code",
   "execution_count": 42,
   "metadata": {},
   "outputs": [
    {
     "name": "stdout",
     "output_type": "stream",
     "text": [
      "[ 1.         -0.17304399 -0.72884745 -0.00964048 -1.80888945 -1.88657284]\n"
     ]
    }
   ],
   "source": [
    "print(x1[5])"
   ]
  },
  {
   "cell_type": "code",
   "execution_count": 43,
   "metadata": {},
   "outputs": [
    {
     "name": "stdout",
     "output_type": "stream",
     "text": [
      "-188.35277138079513\n"
     ]
    }
   ],
   "source": [
    "print(y1[5])"
   ]
  },
  {
   "cell_type": "code",
   "execution_count": 44,
   "metadata": {},
   "outputs": [
    {
     "data": {
      "text/plain": [
       "0.9999986318675455"
      ]
     },
     "execution_count": 44,
     "metadata": {},
     "output_type": "execute_result"
    }
   ],
   "source": [
    "reg.score(x1,y1)"
   ]
  },
  {
   "cell_type": "code",
   "execution_count": 45,
   "metadata": {},
   "outputs": [
    {
     "data": {
      "text/plain": [
       "-188.35754245884306"
      ]
     },
     "execution_count": 45,
     "metadata": {},
     "output_type": "execute_result"
    }
   ],
   "source": [
    "reg.predict(x1[5])"
   ]
  },
  {
   "cell_type": "code",
   "execution_count": 46,
   "metadata": {},
   "outputs": [],
   "source": [
    "new_x5 = np.array([0.999, -0.5784, 0.2179, -0.756, 0.97, 1.6])"
   ]
  },
  {
   "cell_type": "code",
   "execution_count": 47,
   "metadata": {},
   "outputs": [
    {
     "data": {
      "text/plain": [
       "76.57492293465484"
      ]
     },
     "execution_count": 47,
     "metadata": {},
     "output_type": "execute_result"
    }
   ],
   "source": [
    "reg.predict(new_x5)"
   ]
  },
  {
   "cell_type": "code",
   "execution_count": 48,
   "metadata": {},
   "outputs": [
    {
     "name": "stdout",
     "output_type": "stream",
     "text": [
      "SGD\n"
     ]
    }
   ],
   "source": [
    "reg_sg = tp_linear_reg(iterations = 5000000, model='sgd').fit(x2,y2)"
   ]
  },
  {
   "cell_type": "code",
   "execution_count": 49,
   "metadata": {},
   "outputs": [
    {
     "data": {
      "text/plain": [
       "0.9999986318516125"
      ]
     },
     "execution_count": 49,
     "metadata": {},
     "output_type": "execute_result"
    }
   ],
   "source": [
    "reg_sg.score(x2,y2)"
   ]
  },
  {
   "cell_type": "code",
   "execution_count": 50,
   "metadata": {},
   "outputs": [
    {
     "data": {
      "text/plain": [
       "-188.3575015768143"
      ]
     },
     "execution_count": 50,
     "metadata": {},
     "output_type": "execute_result"
    }
   ],
   "source": [
    "reg_sg.predict(x2[5])"
   ]
  },
  {
   "cell_type": "code",
   "execution_count": 51,
   "metadata": {},
   "outputs": [
    {
     "data": {
      "text/plain": [
       "76.57471596254008"
      ]
     },
     "execution_count": 51,
     "metadata": {},
     "output_type": "execute_result"
    }
   ],
   "source": [
    "reg_sg.predict(new_x5)"
   ]
  },
  {
   "cell_type": "code",
   "execution_count": 52,
   "metadata": {},
   "outputs": [
    {
     "name": "stdout",
     "output_type": "stream",
     "text": [
      "[8.51802986e+02 7.19524328e+01 3.03095552e+03 ... 2.14727287e-02\n",
      " 3.50234696e-03 1.06005378e-03]\n"
     ]
    }
   ],
   "source": [
    "print(reg_sg.cost_history)"
   ]
  },
  {
   "cell_type": "code",
   "execution_count": 53,
   "metadata": {},
   "outputs": [
    {
     "name": "stdout",
     "output_type": "stream",
     "text": [
      "Normal Equation\n"
     ]
    }
   ],
   "source": [
    "reg_norm = tp_linear_reg(model='normal').fit(x3,y3)"
   ]
  },
  {
   "cell_type": "code",
   "execution_count": 54,
   "metadata": {},
   "outputs": [
    {
     "data": {
      "text/plain": [
       "0.9999986336224256"
      ]
     },
     "execution_count": 54,
     "metadata": {},
     "output_type": "execute_result"
    }
   ],
   "source": [
    "reg_norm.score(x3,y3)"
   ]
  },
  {
   "cell_type": "code",
   "execution_count": 55,
   "metadata": {},
   "outputs": [
    {
     "data": {
      "text/plain": [
       "-188.3649737146199"
      ]
     },
     "execution_count": 55,
     "metadata": {},
     "output_type": "execute_result"
    }
   ],
   "source": [
    "reg_norm.predict(x3[5])"
   ]
  },
  {
   "cell_type": "code",
   "execution_count": 56,
   "metadata": {},
   "outputs": [
    {
     "data": {
      "text/plain": [
       "76.5773132791083"
      ]
     },
     "execution_count": 56,
     "metadata": {},
     "output_type": "execute_result"
    }
   ],
   "source": [
    "reg_norm.predict(new_x5)"
   ]
  },
  {
   "cell_type": "markdown",
   "metadata": {},
   "source": [
    "# Other pythonic way of class implementation"
   ]
  },
  {
   "cell_type": "code",
   "execution_count": 57,
   "metadata": {},
   "outputs": [],
   "source": [
    "class tp_linear_reg_2():\n",
    "    def __init__(self):\n",
    "        self._alpha = None\n",
    "        self._iterations = None\n",
    "        self._model = None\n",
    "        self._cost_history = None\n",
    "    \n",
    "    #\n",
    "    #  decorators – setting up the property \n",
    "    #  (and thus implicitly the getter for that) \n",
    "    #  and the explicit setup for the setter method\n",
    "    #\n",
    "    \n",
    "    @property\n",
    "    def alpha(self):\n",
    "        return self._alpha\n",
    "    @alpha.setter\n",
    "    def alpha(self, alpha):\n",
    "        self._alpha = alpha\n",
    "    \n",
    "    @property\n",
    "    def iterations(self):\n",
    "        return self._iterations\n",
    "    @iterations.setter\n",
    "    def iterations(self, iterations):\n",
    "        self._iterations = iterations\n",
    "        self._cost_history = np.zeros(iterations)\n",
    "    \n",
    "    @property\n",
    "    def model(self):\n",
    "        return self._model\n",
    "    @model.setter\n",
    "    def model(self, model):\n",
    "        self._model = model\n",
    "    \n",
    "    def _linear_function(self, x, beta):\n",
    "        return np.dot(x , beta)\n",
    "    \n",
    "    def _cost_function(self, x, y, beta):\n",
    "        try:\n",
    "            m = len(y)\n",
    "        except:\n",
    "            m = 1\n",
    "        J = np.sum ( (self._linear_function(x , beta) - y) ** 2)/(2 * m)\n",
    "        return J\n",
    "    \n",
    "    def _shuffle(self, x, y):\n",
    "        randp = randint(0, len(y)-1)\n",
    "        return x[randp], y[randp]\n",
    "    \n",
    "    def fit(self, x, y):\n",
    "        m = len(y)\n",
    "        n = len(x[1])\n",
    "        self.beta = np.ones(n)\n",
    "        if self._model == 'gd':\n",
    "            print('GD')\n",
    "            for iteration in range(self._iterations):\n",
    "                loss = self._linear_function(x, self.beta)\n",
    "                loss = loss - y\n",
    "                gradient = np.dot(x.T, loss) / m\n",
    "                self.beta = self.beta - self._alpha * gradient\n",
    "                cost = self._cost_function(x, y, self.beta)\n",
    "                self._cost_history[iteration] = cost  \n",
    "            return self\n",
    "        if self._model == 'sgd':\n",
    "            print('SGD')\n",
    "            for iteration in range(self._iterations):\n",
    "                onex, oney = self._shuffle(x, y)\n",
    "                loss = self._linear_function(onex, self.beta) - oney\n",
    "                gradient = np.dot(onex.T, loss) / m\n",
    "                self.beta = self.beta - self._alpha * gradient\n",
    "                cost = self._cost_function(onex, oney, self.beta)\n",
    "                self._cost_history[iteration] = cost    \n",
    "            return self        \n",
    "        else:\n",
    "            print('Normal Equation')\n",
    "            self.beta = np.linalg.inv(x.T.dot(x)).dot(x.T).dot(y)\n",
    "            return self\n",
    "    \n",
    "    def predict(self, x):\n",
    "        return x.dot(self.beta)\n",
    "    \n",
    "    def score(self, x, y):\n",
    "        return 1 - sum((self.predict(x) - y)**2) / sum((y - np.mean(y))**2)\n",
    "        "
   ]
  },
  {
   "cell_type": "code",
   "execution_count": 58,
   "metadata": {},
   "outputs": [],
   "source": [
    "regl = tp_linear_reg_2()"
   ]
  },
  {
   "cell_type": "code",
   "execution_count": 59,
   "metadata": {},
   "outputs": [],
   "source": [
    "# so now you can set parmeters in a pythonic way"
   ]
  },
  {
   "cell_type": "code",
   "execution_count": 60,
   "metadata": {},
   "outputs": [
    {
     "name": "stdout",
     "output_type": "stream",
     "text": [
      "None\n"
     ]
    }
   ],
   "source": [
    "print(regl.model)"
   ]
  },
  {
   "cell_type": "code",
   "execution_count": 61,
   "metadata": {},
   "outputs": [],
   "source": [
    "regl.model = 'gd'"
   ]
  },
  {
   "cell_type": "code",
   "execution_count": 62,
   "metadata": {},
   "outputs": [],
   "source": [
    "regl.iterations = 10000"
   ]
  },
  {
   "cell_type": "code",
   "execution_count": 63,
   "metadata": {},
   "outputs": [
    {
     "name": "stdout",
     "output_type": "stream",
     "text": [
      "10000\n"
     ]
    }
   ],
   "source": [
    "print(regl.iterations)"
   ]
  },
  {
   "cell_type": "code",
   "execution_count": 64,
   "metadata": {},
   "outputs": [],
   "source": [
    "regl.alpha = 0.001"
   ]
  },
  {
   "cell_type": "code",
   "execution_count": 65,
   "metadata": {},
   "outputs": [],
   "source": [
    "m = 500 # number of examples\n",
    "n = 5   # number of features (bias not counted)\n",
    "\n",
    "x, y = make_regression(n_samples=m, n_features=n, noise=0.1)\n",
    "\n",
    "# copy generated features and labels\n",
    "x1, y1 = deepcopy(x), deepcopy(y)  # use deepcopy or x[:] , y[:]\n",
    "# add bias \n",
    "x1 = np.insert(x1, 0, 1, axis=1)"
   ]
  },
  {
   "cell_type": "code",
   "execution_count": 66,
   "metadata": {},
   "outputs": [
    {
     "name": "stdout",
     "output_type": "stream",
     "text": [
      "GD\n"
     ]
    },
    {
     "data": {
      "text/plain": [
       "<__main__.tp_linear_reg_2 at 0x1a1c6a7080>"
      ]
     },
     "execution_count": 66,
     "metadata": {},
     "output_type": "execute_result"
    }
   ],
   "source": [
    "regl.fit(x1,y1)"
   ]
  },
  {
   "cell_type": "code",
   "execution_count": 67,
   "metadata": {},
   "outputs": [
    {
     "data": {
      "text/plain": [
       "0.999999431747768"
      ]
     },
     "execution_count": 67,
     "metadata": {},
     "output_type": "execute_result"
    }
   ],
   "source": [
    "regl.score(x1,y1)"
   ]
  },
  {
   "cell_type": "code",
   "execution_count": 68,
   "metadata": {},
   "outputs": [
    {
     "data": {
      "text/plain": [
       "-387.3546254737786"
      ]
     },
     "execution_count": 68,
     "metadata": {},
     "output_type": "execute_result"
    }
   ],
   "source": [
    "regl.predict(x2[5])"
   ]
  },
  {
   "cell_type": "code",
   "execution_count": 69,
   "metadata": {},
   "outputs": [
    {
     "data": {
      "text/plain": [
       "188.5591228967741"
      ]
     },
     "execution_count": 69,
     "metadata": {},
     "output_type": "execute_result"
    }
   ],
   "source": [
    "regl.predict(new_x5)"
   ]
  },
  {
   "cell_type": "code",
   "execution_count": null,
   "metadata": {},
   "outputs": [],
   "source": []
  }
 ],
 "metadata": {
  "kernelspec": {
   "display_name": "Python 3",
   "language": "python",
   "name": "python3"
  },
  "language_info": {
   "codemirror_mode": {
    "name": "ipython",
    "version": 3
   },
   "file_extension": ".py",
   "mimetype": "text/x-python",
   "name": "python",
   "nbconvert_exporter": "python",
   "pygments_lexer": "ipython3",
   "version": "3.6.0"
  }
 },
 "nbformat": 4,
 "nbformat_minor": 2
}
